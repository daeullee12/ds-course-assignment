{
 "cells": [
  {
   "cell_type": "markdown",
   "id": "4497521d",
   "metadata": {},
   "source": [
    "1. What are supervised and unsupervised ML give 2 examples of each.\n",
    "2. What is Classification and regression.\n",
    "3. What are target variables and features (also mention their possible synonyms).\n",
    "4. Import California housing dataset using sklearn use this code. (u need to manually add csv in\n",
    "colab in the Files section in the left tab to use the below code)"
   ]
  },
  {
   "cell_type": "markdown",
   "id": "2c1e5648",
   "metadata": {},
   "source": [
    "### 1. What are supervised and unsupervised ML give 2 examples of each.###\n",
    "\n",
    "Supervised Learning:\n",
    "\n",
    "- Trained on labeled data.\n",
    "- Learns a mapping from inputs to outputs.\n",
    "- Examples: Linear Regression, Image Classification with CNNs.\n",
    "\n",
    "Unsupervised Learning:\n",
    "\n",
    "- Trained on unlabeled data.\n",
    "- Discovers hidden patterns or structures in data.\n",
    "- Examples: K-Means Clustering, Principal Component Analysis (PCA)."
   ]
  },
  {
   "cell_type": "markdown",
   "id": "374f7244",
   "metadata": {},
   "source": [
    "### 2. What is Classification and regression. ###\n",
    "\n",
    "Classification:\n",
    "\n",
    "- Classification is a supervised learning task.\n",
    "- It involves assigning a label or category to input data based on its characteristics.\n",
    "- Example: Categorizing emails as spam or not spam based on their content.\n",
    "\n",
    "Regression:\n",
    "\n",
    "- Regression is also a supervised learning task.\n",
    "- It aims to predict a continuous numerical output or value.\n",
    "- Example: Predicting house prices based on features like size, number of bedrooms, and location."
   ]
  },
  {
   "cell_type": "markdown",
   "id": "347a2fe8",
   "metadata": {},
   "source": [
    "### 3. What are target variables and features (also mention their possible synonyms. ###\n",
    "\n",
    "Target Variable (Dependent Variable):\n",
    "\n",
    "- The target variable is the variable in a dataset that you want to predict or explain.\n",
    "- Synonyms: Dependent variable, response variable, outcome variable.\n",
    "- Example: In predicting house prices, the target variable is the actual price of the house.\n",
    "\n",
    "Features (Independent Variables, Predictors):\n",
    "\n",
    "- Features are the variables or attributes in a dataset that are used to make predictions or explain the target variable.\n",
    "- Synonyms: Independent variables, predictors, attributes, input variables.\n",
    "- Example: In predicting house prices, features could include size, number of bedrooms, and location."
   ]
  },
  {
   "cell_type": "markdown",
   "id": "d1503b5f",
   "metadata": {},
   "source": [
    "### 4. Import California housing dataset using sklearn use this code. (u need to manually add csv in colab in the Files section in the left tab to use the below code) ###"
   ]
  },
  {
   "cell_type": "code",
   "execution_count": 6,
   "id": "9dbc28fb",
   "metadata": {},
   "outputs": [
    {
     "name": "stdout",
     "output_type": "stream",
     "text": [
      "<class 'pandas.core.frame.DataFrame'>\n",
      "RangeIndex: 20640 entries, 0 to 20639\n",
      "Data columns (total 10 columns):\n",
      " #   Column              Non-Null Count  Dtype  \n",
      "---  ------              --------------  -----  \n",
      " 0   longitude           20640 non-null  float64\n",
      " 1   latitude            20640 non-null  float64\n",
      " 2   housing_median_age  20640 non-null  float64\n",
      " 3   total_rooms         20640 non-null  float64\n",
      " 4   total_bedrooms      20433 non-null  float64\n",
      " 5   population          20640 non-null  float64\n",
      " 6   households          20640 non-null  float64\n",
      " 7   median_income       20640 non-null  float64\n",
      " 8   median_house_value  20640 non-null  float64\n",
      " 9   ocean_proximity     20640 non-null  object \n",
      "dtypes: float64(9), object(1)\n",
      "memory usage: 1.6+ MB\n"
     ]
    }
   ],
   "source": [
    "# installing the libraries\n",
    "# !pip install pandas as pd\n",
    "# !pip install numpy as np\n",
    "# !pip install -U scikit-learn\n",
    "\n",
    "import pandas as pd\n",
    "import numpy as np\n",
    "\n",
    "# importing the dataset\n",
    "data=pd.read_csv(\"housing.csv\")\n",
    "\n",
    "data.info()"
   ]
  },
  {
   "cell_type": "code",
   "execution_count": null,
   "id": "afdba398",
   "metadata": {},
   "outputs": [],
   "source": []
  },
  {
   "cell_type": "code",
   "execution_count": null,
   "id": "e3c0a375",
   "metadata": {},
   "outputs": [],
   "source": []
  },
  {
   "cell_type": "code",
   "execution_count": null,
   "id": "a2a32a37",
   "metadata": {},
   "outputs": [],
   "source": []
  },
  {
   "cell_type": "code",
   "execution_count": null,
   "id": "db6739b7",
   "metadata": {},
   "outputs": [],
   "source": []
  }
 ],
 "metadata": {
  "kernelspec": {
   "display_name": "Python 3 (ipykernel)",
   "language": "python",
   "name": "python3"
  },
  "language_info": {
   "codemirror_mode": {
    "name": "ipython",
    "version": 3
   },
   "file_extension": ".py",
   "mimetype": "text/x-python",
   "name": "python",
   "nbconvert_exporter": "python",
   "pygments_lexer": "ipython3",
   "version": "3.11.4"
  }
 },
 "nbformat": 4,
 "nbformat_minor": 5
}
